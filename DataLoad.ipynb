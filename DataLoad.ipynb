{
 "cells": [
  {
   "cell_type": "code",
   "execution_count": 1,
   "id": "654bc0a5",
   "metadata": {},
   "outputs": [],
   "source": [
    "import pandas as pd"
   ]
  },
  {
   "cell_type": "code",
   "execution_count": 2,
   "id": "bc803f1c",
   "metadata": {},
   "outputs": [],
   "source": [
    "def load_smp_demand_data():\n",
    "    file_path = 'data/2024 SMP 육지.xlsx'\n",
    "    df_SMP = pd.read_excel(file_path)\n",
    "    new_file_path = 'data/전력수요예측.xlsx'\n",
    "    df_Demand = pd.read_excel(new_file_path)\n",
    "    \n",
    "    for data in [df_SMP, df_Demand]:\n",
    "        data['구분'] = pd.to_datetime(data['구분'], format='%Y%m%d')\n",
    "        data['구분'] = data['구분'].dt.strftime('%Y-%m-%d')\n",
    "    \n",
    "    df_SMP_melted = df_SMP.melt(id_vars=['구분'], value_vars=[str(i) + 'h' for i in range(1, 25)], \n",
    "                                var_name='Time', value_name='SMP')\n",
    "    df_Demand_melted = df_Demand.melt(id_vars=['구분'], value_vars=[str(i) + 'h' for i in range(1, 25)], \n",
    "                                      var_name='Time', value_name='Demand')\n",
    "    \n",
    "    for data in [df_SMP_melted, df_Demand_melted]:\n",
    "        data['Time'] = data['Time'].str.replace('h', ':00')\n",
    "    \n",
    "    return df_SMP_melted, df_Demand_melted"
   ]
  },
  {
   "cell_type": "code",
   "execution_count": 3,
   "id": "89ad7fcf",
   "metadata": {},
   "outputs": [],
   "source": [
    "def load_rec_data():\n",
    "    rec_file_path = 'data/REC가격 변동.xlsx'\n",
    "    df_REC = pd.read_excel(rec_file_path)\n",
    "    df_REC['거래일'] = pd.to_datetime(df_REC['거래일'], format='%Y%m%d')\n",
    "    df_REC['거래일'] = df_REC['거래일'].dt.strftime('%Y-%m-%d')\n",
    "    return df_REC\n"
   ]
  },
  {
   "cell_type": "code",
   "execution_count": 4,
   "id": "03923976",
   "metadata": {},
   "outputs": [],
   "source": [
    "def load_fuel_cost_data():\n",
    "    fuel_cost_file_path = 'data/연료비단가.xlsx'\n",
    "    df_FuelCost = pd.read_excel(fuel_cost_file_path)\n",
    "    df_FuelCost['기간'] = pd.to_datetime(df_FuelCost['기간'], format='%Y/%m')\n",
    "    df_FuelCost['기간'] = df_FuelCost['기간'].dt.strftime('%Y-%m')\n",
    "    return df_FuelCost"
   ]
  },
  {
   "cell_type": "code",
   "execution_count": 5,
   "id": "851b7f64",
   "metadata": {},
   "outputs": [],
   "source": [
    "def load_power_trading_data():\n",
    "    power_trading_file_path = 'data/전력거래량.xlsx'\n",
    "    df_PowerTrading = pd.read_excel(power_trading_file_path)\n",
    "    df_PowerTrading['기간'] = pd.to_datetime(df_PowerTrading['기간'], format='%Y/%m')\n",
    "    df_PowerTrading['기간'] = df_PowerTrading['기간'].dt.strftime('%Y-%m')\n",
    "    return df_PowerTrading"
   ]
  },
  {
   "cell_type": "code",
   "execution_count": 6,
   "id": "47d39f45",
   "metadata": {},
   "outputs": [],
   "source": [
    "def load_power_bidding_data():\n",
    "    power_bidding_file_path = 'data/전력입찰량.xlsx'\n",
    "    df_PowerBidding = pd.read_excel(power_bidding_file_path)\n",
    "    df_PowerBidding['기간'] = pd.to_datetime(df_PowerBidding['기간'], format='%Y/%m')\n",
    "    df_PowerBidding['기간'] = df_PowerBidding['기간'].dt.strftime('%Y-%m')\n",
    "    return df_PowerBidding"
   ]
  },
  {
   "cell_type": "code",
   "execution_count": 8,
   "id": "cacf2b3d",
   "metadata": {},
   "outputs": [],
   "source": [
    "def load_UnitCost_data():\n",
    "    file_path = 'data/정산단가.xlsx'\n",
    "    df_UnitCost = pd.read_excel(file_path)\n",
    "    df_UnitCost['기간'] = pd.to_datetime(df_UnitCost['기간'], format='%Y/%m')\n",
    "    df_UnitCost['기간'] = df_UnitCost['기간'].dt.strftime('%Y-%m')\n",
    "    return df_UnitCost"
   ]
  },
  {
   "cell_type": "code",
   "execution_count": 9,
   "id": "254d57f6",
   "metadata": {},
   "outputs": [],
   "source": [
    "def load_smp_count_data():\n",
    "    file_path_smp_count = 'data/연료원별SMP결정.xlsx'\n",
    "    df_SMPCount = pd.read_excel(file_path_smp_count)\n",
    "    df_SMPCount['기간'] = pd.to_datetime(df_SMPCount['기간'], format='%Y/%m')\n",
    "    df_SMPCount['기간'] = df_SMPCount['기간'].dt.strftime('%Y-%m')\n",
    "    return df_SMPCount"
   ]
  },
  {
   "cell_type": "code",
   "execution_count": 10,
   "id": "b8ae51d9",
   "metadata": {},
   "outputs": [],
   "source": [
    "def load_today_data():\n",
    "    file_path_today = 'data/today.xlsx'\n",
    "    df_today = pd.read_excel(file_path_today)\n",
    "    df_today['temporary'] = pd.to_datetime(df_today['temporary'], format='%Y-%m-%d %H:%M')\n",
    "    return df_today"
   ]
  },
  {
   "cell_type": "code",
   "execution_count": null,
   "id": "7d4e032d",
   "metadata": {},
   "outputs": [],
   "source": []
  }
 ],
 "metadata": {
  "kernelspec": {
   "display_name": "FiStat",
   "language": "python",
   "name": "fistat"
  },
  "language_info": {
   "codemirror_mode": {
    "name": "ipython",
    "version": 3
   },
   "file_extension": ".py",
   "mimetype": "text/x-python",
   "name": "python",
   "nbconvert_exporter": "python",
   "pygments_lexer": "ipython3",
   "version": "3.11.7"
  }
 },
 "nbformat": 4,
 "nbformat_minor": 5
}
